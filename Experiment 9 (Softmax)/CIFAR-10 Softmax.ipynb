{
 "cells": [
  {
   "attachments": {},
   "cell_type": "markdown",
   "metadata": {},
   "source": [
    "## CIFAR-10 Softmax"
   ]
  },
  {
   "cell_type": "code",
   "execution_count": 14,
   "metadata": {},
   "outputs": [],
   "source": [
    "import tensorflow as tf\n",
    "from tensorflow import keras\n",
    "import numpy as np\n",
    "import matplotlib.pyplot as plt\n"
   ]
  },
  {
   "cell_type": "code",
   "execution_count": 15,
   "metadata": {},
   "outputs": [],
   "source": [
    "# Load the CIFAR-10 dataset\n",
    "(x_train, y_train), (x_test, y_test) = keras.datasets.cifar10.load_data()"
   ]
  },
  {
   "cell_type": "code",
   "execution_count": 16,
   "metadata": {},
   "outputs": [],
   "source": [
    "# Preprocess the data\n",
    "x_train = x_train.astype('float32') / 255\n",
    "x_test = x_test.astype('float32') / 255"
   ]
  },
  {
   "cell_type": "code",
   "execution_count": 17,
   "metadata": {},
   "outputs": [],
   "source": [
    "# One-hot encode the labels\n",
    "y_train = keras.utils.to_categorical(y_train, 10)\n",
    "y_test = keras.utils.to_categorical(y_test, 10)"
   ]
  },
  {
   "cell_type": "code",
   "execution_count": 18,
   "metadata": {},
   "outputs": [],
   "source": [
    "# Define the model\n",
    "model = keras.Sequential()\n",
    "model.add(keras.layers.Flatten(input_shape=(32, 32, 3)))\n",
    "model.add(keras.layers.Dense(128, activation='relu'))\n",
    "model.add(keras.layers.Dense(10, activation='softmax'))"
   ]
  },
  {
   "cell_type": "code",
   "execution_count": 19,
   "metadata": {},
   "outputs": [],
   "source": [
    "# Compile the model\n",
    "model.compile(optimizer='adam',\n",
    "              loss='categorical_crossentropy',\n",
    "              metrics=['accuracy'])"
   ]
  },
  {
   "cell_type": "code",
   "execution_count": 20,
   "metadata": {},
   "outputs": [
    {
     "name": "stdout",
     "output_type": "stream",
     "text": [
      "Epoch 1/10\n",
      "1407/1407 [==============================] - 12s 8ms/step - loss: 1.9178 - accuracy: 0.3137 - val_loss: 1.8038 - val_accuracy: 0.3626\n",
      "Epoch 2/10\n",
      "1407/1407 [==============================] - 9s 7ms/step - loss: 1.7579 - accuracy: 0.3730 - val_loss: 1.7363 - val_accuracy: 0.3750\n",
      "Epoch 3/10\n",
      "1407/1407 [==============================] - 9s 6ms/step - loss: 1.6930 - accuracy: 0.3958 - val_loss: 1.6971 - val_accuracy: 0.3950\n",
      "Epoch 4/10\n",
      "1407/1407 [==============================] - 12s 8ms/step - loss: 1.6543 - accuracy: 0.4089 - val_loss: 1.6710 - val_accuracy: 0.4050\n",
      "Epoch 5/10\n",
      "1407/1407 [==============================] - 10s 7ms/step - loss: 1.6320 - accuracy: 0.4172 - val_loss: 1.6367 - val_accuracy: 0.4110\n",
      "Epoch 6/10\n",
      "1407/1407 [==============================] - 10s 7ms/step - loss: 1.6087 - accuracy: 0.4281 - val_loss: 1.6407 - val_accuracy: 0.4086\n",
      "Epoch 7/10\n",
      "1407/1407 [==============================] - 9s 7ms/step - loss: 1.5984 - accuracy: 0.4310 - val_loss: 1.6066 - val_accuracy: 0.4296\n",
      "Epoch 8/10\n",
      "1407/1407 [==============================] - 11s 8ms/step - loss: 1.5850 - accuracy: 0.4334 - val_loss: 1.6164 - val_accuracy: 0.4230\n",
      "Epoch 9/10\n",
      "1407/1407 [==============================] - 14s 10ms/step - loss: 1.5753 - accuracy: 0.4382 - val_loss: 1.6275 - val_accuracy: 0.4110\n",
      "Epoch 10/10\n",
      "1407/1407 [==============================] - 12s 8ms/step - loss: 1.5683 - accuracy: 0.4401 - val_loss: 1.6238 - val_accuracy: 0.4114\n"
     ]
    },
    {
     "data": {
      "text/plain": [
       "<keras.callbacks.History at 0x25696fef760>"
      ]
     },
     "execution_count": 20,
     "metadata": {},
     "output_type": "execute_result"
    }
   ],
   "source": [
    "# Train the model\n",
    "model.fit(x_train, y_train, epochs=10, batch_size=32, validation_split=0.1)\n"
   ]
  },
  {
   "cell_type": "code",
   "execution_count": 21,
   "metadata": {},
   "outputs": [
    {
     "name": "stdout",
     "output_type": "stream",
     "text": [
      "313/313 [==============================] - 1s 2ms/step - loss: 1.6132 - accuracy: 0.4115\n",
      "Test accuracy: 0.4115000069141388\n"
     ]
    }
   ],
   "source": [
    "# Evaluate the model on the test data\n",
    "test_loss, test_acc = model.evaluate(x_test, y_test)\n",
    "print('Test accuracy:', test_acc)\n"
   ]
  },
  {
   "cell_type": "code",
   "execution_count": 26,
   "metadata": {},
   "outputs": [
    {
     "name": "stdout",
     "output_type": "stream",
     "text": [
      "1/1 [==============================] - 0s 27ms/step\n",
      "Predicted class: cat\n",
      "Actual class: cat\n"
     ]
    }
   ],
   "source": [
    "# Predict the class of a sample image\n",
    "# Class names for CIFAR-10 dataset\n",
    "class_names = ['airplane', 'automobile', 'bird', 'cat', 'deer','dog', 'frog', 'horse', 'ship', 'truck']\n",
    "img = x_test[0]\n",
    "img = np.expand_dims(img, axis=0)\n",
    "predictions = model.predict(img)\n",
    "predicted_class = np.argmax(predictions[0])\n",
    "print('Predicted class:', class_names[predicted_class])\n",
    "actual_class = np.argmax(y_test[0])\n",
    "print('Actual class:',  class_names[actual_class])"
   ]
  },
  {
   "cell_type": "code",
   "execution_count": 25,
   "metadata": {},
   "outputs": [
    {
     "data": {
      "image/png": "[encoded data removed]",
      "text/plain": [
       "<Figure size 640x480 with 1 Axes>"
      ]
     },
     "metadata": {},
     "output_type": "display_data"
    }
   ],
   "source": [
    "# Plot the sample image\n",
    "plt.imshow(x_test[0])\n",
    "plt.show()"
   ]
  }
 ],
 "metadata": {
  "kernelspec": {
   "display_name": "Python 3",
   "language": "python",
   "name": "python3"
  },
  "language_info": {
   "codemirror_mode": {
    "name": "ipython",
    "version": 3
   },
   "file_extension": ".py",
   "mimetype": "text/x-python",
   "name": "python",
   "nbconvert_exporter": "python",
   "pygments_lexer": "ipython3",
   "version": "3.10.0"
  },
  "orig_nbformat": 4,
  "vscode": {
   "interpreter": {
    "hash": "369f2c481f4da34e4445cda3fffd2e751bd1c4d706f27375911949ba6bb62e1c"
   }
  }
 },
 "nbformat": 4,
 "nbformat_minor": 2
}
