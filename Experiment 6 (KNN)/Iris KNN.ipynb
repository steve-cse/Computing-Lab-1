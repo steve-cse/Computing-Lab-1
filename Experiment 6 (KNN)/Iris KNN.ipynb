{
 "cells": [
  {
   "cell_type": "code",
   "execution_count": 14,
   "id": "c4051fcd",
   "metadata": {},
   "outputs": [],
   "source": [
    "from sklearn.model_selection import train_test_split\n",
    "from sklearn.neighbors import KNeighborsClassifier\n",
    "from sklearn import datasets"
   ]
  },
  {
   "cell_type": "markdown",
   "id": "3bd4b668",
   "metadata": {},
   "source": [
    "## Load Dataset"
   ]
  },
  {
   "cell_type": "code",
   "execution_count": 3,
   "id": "85a972cb",
   "metadata": {},
   "outputs": [],
   "source": [
    "iris=datasets.load_iris()\n",
    "x = iris.data\n",
    "y = iris.target"
   ]
  },
  {
   "cell_type": "markdown",
   "id": "9663d3e4",
   "metadata": {},
   "source": [
    "## Train the model"
   ]
  },
  {
   "cell_type": "code",
   "execution_count": 6,
   "id": "e636b906",
   "metadata": {},
   "outputs": [],
   "source": [
    "x_train, x_test, y_train, y_test = train_test_split(x,y,test_size=0.3)"
   ]
  },
  {
   "cell_type": "code",
   "execution_count": 7,
   "id": "5a761c29",
   "metadata": {},
   "outputs": [
    {
     "data": {
      "text/plain": [
       "KNeighborsClassifier()"
      ]
     },
     "execution_count": 7,
     "metadata": {},
     "output_type": "execute_result"
    }
   ],
   "source": [
    "classifier = KNeighborsClassifier(n_neighbors=5)\n",
    "classifier.fit(x_train, y_train)\n"
   ]
  },
  {
   "cell_type": "code",
   "execution_count": 8,
   "id": "01c95dab",
   "metadata": {},
   "outputs": [],
   "source": [
    "y_pred=classifier.predict(x_test)"
   ]
  },
  {
   "cell_type": "markdown",
   "id": "7e56e5bd",
   "metadata": {},
   "source": [
    "## Print  both correct and wrong predictions."
   ]
  },
  {
   "cell_type": "code",
   "execution_count": 13,
   "id": "6f403f00",
   "metadata": {},
   "outputs": [
    {
     "name": "stdout",
     "output_type": "stream",
     "text": [
      "Sample:  [6.1 2.6 5.6 1.4] Actual-Label:  2 Predicted:  2\n",
      "Sample:  [6.5 3.2 5.1 2. ] Actual-Label:  2 Predicted:  2\n",
      "Sample:  [6.  2.9 4.5 1.5] Actual-Label:  1 Predicted:  1\n",
      "Sample:  [5.7 2.9 4.2 1.3] Actual-Label:  1 Predicted:  1\n",
      "Sample:  [7.7 2.6 6.9 2.3] Actual-Label:  2 Predicted:  2\n",
      "Sample:  [5.4 3.  4.5 1.5] Actual-Label:  1 Predicted:  1\n",
      "Sample:  [5.6 2.9 3.6 1.3] Actual-Label:  1 Predicted:  1\n",
      "Sample:  [5.2 3.5 1.5 0.2] Actual-Label:  0 Predicted:  0\n",
      "Sample:  [4.4 3.  1.3 0.2] Actual-Label:  0 Predicted:  0\n",
      "Sample:  [5.1 3.3 1.7 0.5] Actual-Label:  0 Predicted:  0\n",
      "Sample:  [5.4 3.9 1.7 0.4] Actual-Label:  0 Predicted:  0\n",
      "Sample:  [7.2 3.2 6.  1.8] Actual-Label:  2 Predicted:  2\n",
      "Sample:  [7.7 3.8 6.7 2.2] Actual-Label:  2 Predicted:  2\n",
      "Sample:  [5.8 2.8 5.1 2.4] Actual-Label:  2 Predicted:  2\n",
      "Sample:  [4.9 3.6 1.4 0.1] Actual-Label:  0 Predicted:  0\n",
      "Sample:  [5.  3.2 1.2 0.2] Actual-Label:  0 Predicted:  0\n",
      "Sample:  [6.4 2.8 5.6 2.2] Actual-Label:  2 Predicted:  2\n",
      "Sample:  [6.3 2.7 4.9 1.8] Actual-Label:  2 Predicted:  2\n",
      "Sample:  [6.4 2.9 4.3 1.3] Actual-Label:  1 Predicted:  1\n",
      "Sample:  [5.8 2.7 5.1 1.9] Actual-Label:  2 Predicted:  2\n",
      "Sample:  [6.2 2.2 4.5 1.5] Actual-Label:  1 Predicted:  1\n",
      "Sample:  [6.5 3.  5.8 2.2] Actual-Label:  2 Predicted:  2\n",
      "Sample:  [5.6 2.8 4.9 2. ] Actual-Label:  2 Predicted:  2\n",
      "Sample:  [6.4 3.2 4.5 1.5] Actual-Label:  1 Predicted:  1\n",
      "Sample:  [6.7 3.1 4.7 1.5] Actual-Label:  1 Predicted:  1\n",
      "Sample:  [5.2 2.7 3.9 1.4] Actual-Label:  1 Predicted:  1\n",
      "Sample:  [6.5 3.  5.5 1.8] Actual-Label:  2 Predicted:  2\n",
      "Sample:  [7.3 2.9 6.3 1.8] Actual-Label:  2 Predicted:  2\n",
      "Sample:  [6.3 3.3 6.  2.5] Actual-Label:  2 Predicted:  2\n",
      "Sample:  [4.8 3.4 1.6 0.2] Actual-Label:  0 Predicted:  0\n",
      "Sample:  [6.6 2.9 4.6 1.3] Actual-Label:  1 Predicted:  1\n",
      "Sample:  [4.7 3.2 1.6 0.2] Actual-Label:  0 Predicted:  0\n",
      "Sample:  [6.3 2.8 5.1 1.5] Actual-Label:  2 Predicted:  1\n",
      "Sample:  [5.1 3.7 1.5 0.4] Actual-Label:  0 Predicted:  0\n",
      "Sample:  [4.8 3.  1.4 0.1] Actual-Label:  0 Predicted:  0\n",
      "Sample:  [6.4 3.1 5.5 1.8] Actual-Label:  2 Predicted:  2\n",
      "Sample:  [6.5 2.8 4.6 1.5] Actual-Label:  1 Predicted:  1\n",
      "Sample:  [5.1 2.5 3.  1.1] Actual-Label:  1 Predicted:  1\n",
      "Sample:  [5.2 3.4 1.4 0.2] Actual-Label:  0 Predicted:  0\n",
      "Sample:  [7.9 3.8 6.4 2. ] Actual-Label:  2 Predicted:  2\n",
      "Sample:  [6.5 3.  5.2 2. ] Actual-Label:  2 Predicted:  2\n",
      "Sample:  [6.3 2.5 5.  1.9] Actual-Label:  2 Predicted:  2\n",
      "Sample:  [5.6 3.  4.1 1.3] Actual-Label:  1 Predicted:  1\n",
      "Sample:  [4.6 3.1 1.5 0.2] Actual-Label:  0 Predicted:  0\n",
      "Sample:  [7.7 3.  6.1 2.3] Actual-Label:  2 Predicted:  2\n"
     ]
    }
   ],
   "source": [
    "for i in range(0,len(x_test)):\n",
    "    print (\"Sample: \",x_test[i], \"Actual-Label: \",y_test[i],\"Predicted: \",y_pred[i])"
   ]
  },
  {
   "cell_type": "code",
   "execution_count": 15,
   "id": "1071b186",
   "metadata": {},
   "outputs": [
    {
     "name": "stdout",
     "output_type": "stream",
     "text": [
      "Accuracy: 0.9777777777777777\n"
     ]
    }
   ],
   "source": [
    "print (\"Accuracy:\",classifier.score(x_test,y_test))"
   ]
  }
 ],
 "metadata": {
  "kernelspec": {
   "display_name": "Python 3 (ipykernel)",
   "language": "python",
   "name": "python3"
  },
  "language_info": {
   "codemirror_mode": {
    "name": "ipython",
    "version": 3
   },
   "file_extension": ".py",
   "mimetype": "text/x-python",
   "name": "python",
   "nbconvert_exporter": "python",
   "pygments_lexer": "ipython3",
   "version": "3.9.12"
  }
 },
 "nbformat": 4,
 "nbformat_minor": 5
}
