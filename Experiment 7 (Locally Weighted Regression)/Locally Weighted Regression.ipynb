{
 "cells": [
  {
   "cell_type": "markdown",
   "id": "f86323ff",
   "metadata": {},
   "source": [
    "## Locally Weighted Regression"
   ]
  },
  {
   "cell_type": "code",
   "execution_count": 7,
   "id": "8b31a31d",
   "metadata": {},
   "outputs": [],
   "source": [
    "import matplotlib.pyplot as plt\n",
    "import pandas as pd\n",
    "import numpy as np"
   ]
  },
  {
   "cell_type": "code",
   "execution_count": 16,
   "id": "7994b98b",
   "metadata": {},
   "outputs": [],
   "source": [
    "def kernel(point, xmat, k):\n",
    "    m,n = np.shape(xmat)\n",
    "    weights = np.mat(np.eye((m)))\n",
    "    for j in range(m):\n",
    "        diff = point - X[j]\n",
    "        weights[j,j] = np.exp(diff*diff.T/(-2.0*k**2))\n",
    "    return weights"
   ]
  },
  {
   "cell_type": "code",
   "execution_count": 17,
   "id": "8cc2b50d",
   "metadata": {},
   "outputs": [],
   "source": [
    "def localWeight(point, xmat, ymat, k):\n",
    "    wei = kernel(point,xmat,k)\n",
    "    W = (X.T*(wei*X)).I*(X.T*(wei*ymat.T))\n",
    "    return W"
   ]
  },
  {
   "cell_type": "code",
   "execution_count": 18,
   "id": "c4fdf3da",
   "metadata": {},
   "outputs": [],
   "source": [
    "def localWeightRegression(xmat, ymat, k):\n",
    "    m,n = np.shape(xmat)\n",
    "    ypred = np.zeros(m)\n",
    "    for i in range(m):\n",
    "        ypred[i] = xmat[i]*localWeight(xmat[i],xmat,ymat,k)\n",
    "    return ypred"
   ]
  },
  {
   "cell_type": "code",
   "execution_count": 22,
   "id": "780a02a5",
   "metadata": {},
   "outputs": [
    {
     "data": {
      "text/html": [
       "<div>\n",
       "<style scoped>\n",
       "    .dataframe tbody tr th:only-of-type {\n",
       "        vertical-align: middle;\n",
       "    }\n",
       "\n",
       "    .dataframe tbody tr th {\n",
       "        vertical-align: top;\n",
       "    }\n",
       "\n",
       "    .dataframe thead th {\n",
       "        text-align: right;\n",
       "    }\n",
       "</style>\n",
       "<table border=\"1\" class=\"dataframe\">\n",
       "  <thead>\n",
       "    <tr style=\"text-align: right;\">\n",
       "      <th></th>\n",
       "      <th>total_bill</th>\n",
       "      <th>tip</th>\n",
       "      <th>sex</th>\n",
       "      <th>smoker</th>\n",
       "      <th>day</th>\n",
       "      <th>time</th>\n",
       "      <th>size</th>\n",
       "    </tr>\n",
       "  </thead>\n",
       "  <tbody>\n",
       "    <tr>\n",
       "      <th>0</th>\n",
       "      <td>16.99</td>\n",
       "      <td>1.01</td>\n",
       "      <td>Female</td>\n",
       "      <td>No</td>\n",
       "      <td>Sun</td>\n",
       "      <td>Dinner</td>\n",
       "      <td>2</td>\n",
       "    </tr>\n",
       "    <tr>\n",
       "      <th>1</th>\n",
       "      <td>10.34</td>\n",
       "      <td>1.66</td>\n",
       "      <td>Male</td>\n",
       "      <td>No</td>\n",
       "      <td>Sun</td>\n",
       "      <td>Dinner</td>\n",
       "      <td>3</td>\n",
       "    </tr>\n",
       "    <tr>\n",
       "      <th>2</th>\n",
       "      <td>21.01</td>\n",
       "      <td>3.50</td>\n",
       "      <td>Male</td>\n",
       "      <td>No</td>\n",
       "      <td>Sun</td>\n",
       "      <td>Dinner</td>\n",
       "      <td>3</td>\n",
       "    </tr>\n",
       "    <tr>\n",
       "      <th>3</th>\n",
       "      <td>23.68</td>\n",
       "      <td>3.31</td>\n",
       "      <td>Male</td>\n",
       "      <td>No</td>\n",
       "      <td>Sun</td>\n",
       "      <td>Dinner</td>\n",
       "      <td>2</td>\n",
       "    </tr>\n",
       "    <tr>\n",
       "      <th>4</th>\n",
       "      <td>24.59</td>\n",
       "      <td>3.61</td>\n",
       "      <td>Female</td>\n",
       "      <td>No</td>\n",
       "      <td>Sun</td>\n",
       "      <td>Dinner</td>\n",
       "      <td>4</td>\n",
       "    </tr>\n",
       "  </tbody>\n",
       "</table>\n",
       "</div>"
      ],
      "text/plain": [
       "   total_bill   tip     sex smoker  day    time  size\n",
       "0       16.99  1.01  Female     No  Sun  Dinner     2\n",
       "1       10.34  1.66    Male     No  Sun  Dinner     3\n",
       "2       21.01  3.50    Male     No  Sun  Dinner     3\n",
       "3       23.68  3.31    Male     No  Sun  Dinner     2\n",
       "4       24.59  3.61  Female     No  Sun  Dinner     4"
      ]
     },
     "execution_count": 22,
     "metadata": {},
     "output_type": "execute_result"
    }
   ],
   "source": [
    "# load data points\n",
    "data = pd.read_csv('restaurant.csv')\n",
    "bill = np.array(data.total_bill)\n",
    "tip = np.array(data.tip)\n",
    "data.head()"
   ]
  },
  {
   "cell_type": "code",
   "execution_count": 20,
   "id": "4cebbf84",
   "metadata": {},
   "outputs": [],
   "source": [
    "#preparing and add 1 in bill\n",
    "mbill = np.mat(bill)\n",
    "mtip = np.mat(tip)\n",
    "\n",
    "m= np.shape(mbill)[1]\n",
    "one = np.mat(np.ones(m))\n",
    "X = np.hstack((one.T,mbill.T))"
   ]
  },
  {
   "cell_type": "code",
   "execution_count": 21,
   "id": "f929c781",
   "metadata": {},
   "outputs": [
    {
     "data": {
      "image/png": "[encoded data removed]",
      "text/plain": [
       "<Figure size 432x288 with 1 Axes>"
      ]
     },
     "metadata": {
      "needs_background": "light"
     },
     "output_type": "display_data"
    }
   ],
   "source": [
    "#set k here\n",
    "ypred = localWeightRegression(X,mtip,0.5)\n",
    "SortIndex = X[:,1].argsort(0)\n",
    "xsort = X[SortIndex][:,0]\n",
    "\n",
    "fig = plt.figure()\n",
    "ax = fig.add_subplot(1,1,1)\n",
    "ax.scatter(bill,tip, color='green')\n",
    "ax.plot(xsort[:,1],ypred[SortIndex], color = 'red', linewidth=5)\n",
    "plt.xlabel('Total bill')\n",
    "plt.ylabel('Tip')\n",
    "plt.show();"
   ]
  }
 ],
 "metadata": {
  "kernelspec": {
   "display_name": "Python 3 (ipykernel)",
   "language": "python",
   "name": "python3"
  },
  "language_info": {
   "codemirror_mode": {
    "name": "ipython",
    "version": 3
   },
   "file_extension": ".py",
   "mimetype": "text/x-python",
   "name": "python",
   "nbconvert_exporter": "python",
   "pygments_lexer": "ipython3",
   "version": "3.9.12"
  }
 },
 "nbformat": 4,
 "nbformat_minor": 5
}
