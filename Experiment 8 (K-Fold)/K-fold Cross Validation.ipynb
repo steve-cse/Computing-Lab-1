{
 "cells": [
  {
   "cell_type": "markdown",
   "id": "bc89809b",
   "metadata": {},
   "source": [
    "## K-fold cross validation"
   ]
  },
  {
   "cell_type": "code",
   "execution_count": 106,
   "id": "37c05031",
   "metadata": {},
   "outputs": [],
   "source": [
    "import pandas as pd\n",
    "from sklearn.naive_bayes import GaussianNB\n",
    "from sklearn.metrics import accuracy_score, precision_score, recall_score, f1_score\n",
    "from sklearn.model_selection import KFold"
   ]
  },
  {
   "cell_type": "code",
   "execution_count": 90,
   "id": "d321abbe",
   "metadata": {},
   "outputs": [],
   "source": [
    "df=pd.read_csv(\"diabetes.csv\")"
   ]
  },
  {
   "cell_type": "code",
   "execution_count": 91,
   "id": "d85a234f",
   "metadata": {},
   "outputs": [
    {
     "data": {
      "text/plain": [
       "glucose          0\n",
       "bloodpressure    0\n",
       "diabetes         0\n",
       "dtype: int64"
      ]
     },
     "execution_count": 91,
     "metadata": {},
     "output_type": "execute_result"
    }
   ],
   "source": [
    "df.head()\n",
    "df.isnull().sum()"
   ]
  },
  {
   "cell_type": "code",
   "execution_count": 92,
   "id": "ea1b2331",
   "metadata": {},
   "outputs": [],
   "source": [
    "x=df.drop('diabetes',axis=1)\n",
    "y=df['diabetes']"
   ]
  },
  {
   "cell_type": "code",
   "execution_count": 93,
   "id": "0a2dc7cd",
   "metadata": {},
   "outputs": [],
   "source": [
    "model=GaussianNB()"
   ]
  },
  {
   "cell_type": "code",
   "execution_count": 94,
   "id": "643f8963",
   "metadata": {},
   "outputs": [],
   "source": [
    "kf = KFold(n_splits=5)"
   ]
  },
  {
   "cell_type": "code",
   "execution_count": 95,
   "id": "40e97394",
   "metadata": {},
   "outputs": [],
   "source": [
    "accuracies = []\n",
    "precisions = []\n",
    "recalls = []\n",
    "fscores = []"
   ]
  },
  {
   "cell_type": "code",
   "execution_count": 96,
   "id": "8bdcaf05",
   "metadata": {},
   "outputs": [],
   "source": [
    "for train_index , test_index in kf.split(x):\n",
    "    x_train , x_test = x.iloc[train_index,:],x.iloc[test_index,:]\n",
    "    y_train , y_test = y[train_index] , y[test_index]\n",
    "    \n",
    "    #train the model\n",
    "    \n",
    "    model.fit(x_train, y_train)\n",
    "    \n",
    "    # do prediction\n",
    "    \n",
    "    y_pred = model.predict(x_test)\n",
    "    \n",
    "    #get scores\n",
    "    \n",
    "    accuracy = accuracy_score(y_test, y_pred)\n",
    "    precision = precision_score(y_test, y_pred)\n",
    "    recall = recall_score(y_test, y_pred)\n",
    "    fscore = f1_score(y_test, y_pred)\n",
    "    \n",
    "    \n",
    "    # append the results to the lists\n",
    "\n",
    "    accuracies.append(accuracy)\n",
    "    precisions.append(precision)\n",
    "    recalls.append(recall)\n",
    "    fscores.append(fscore)\n"
   ]
  },
  {
   "cell_type": "code",
   "execution_count": 100,
   "id": "b0171323",
   "metadata": {},
   "outputs": [
    {
     "name": "stdout",
     "output_type": "stream",
     "text": [
      "ACCURACY FOR 5 FOLDS\n",
      "[0.9597989949748744, 0.964824120603015, 0.914572864321608, 0.8994974874371859, 0.9246231155778895]\n"
     ]
    }
   ],
   "source": [
    "print (\"ACCURACY FOR 5 FOLDS\")\n",
    "print(accuracies)"
   ]
  },
  {
   "cell_type": "code",
   "execution_count": 104,
   "id": "9dde102c",
   "metadata": {},
   "outputs": [
    {
     "name": "stdout",
     "output_type": "stream",
     "text": [
      "PRECISION FOR 5 FOLDS\n",
      "[0.946236559139785, 0.9553571428571429, 0.9183673469387755, 0.9326923076923077, 0.8936170212765957]\n"
     ]
    }
   ],
   "source": [
    "print (\"PRECISION FOR 5 FOLDS\")\n",
    "print(precisions)"
   ]
  },
  {
   "cell_type": "code",
   "execution_count": 102,
   "id": "719ceeb9",
   "metadata": {},
   "outputs": [
    {
     "name": "stdout",
     "output_type": "stream",
     "text": [
      "ACCURACY FOR 5 FOLDS\n",
      "[0.9597989949748744, 0.964824120603015, 0.914572864321608, 0.8994974874371859, 0.9246231155778895]\n"
     ]
    }
   ],
   "source": [
    "print (\"RECALL FOR 5 FOLDS\")\n",
    "print(recalls)"
   ]
  },
  {
   "cell_type": "code",
   "execution_count": 105,
   "id": "f79d17c7",
   "metadata": {},
   "outputs": [
    {
     "name": "stdout",
     "output_type": "stream",
     "text": [
      "F-SCORE FOR 5 FOLDS\n",
      "[0.9565217391304348, 0.9683257918552036, 0.9137055837563451, 0.9065420560747663, 0.9180327868852459]\n"
     ]
    }
   ],
   "source": [
    "print (\"F-SCORE FOR 5 FOLDS\")\n",
    "print(fscores)"
   ]
  }
 ],
 "metadata": {
  "kernelspec": {
   "display_name": "Python 3 (ipykernel)",
   "language": "python",
   "name": "python3"
  },
  "language_info": {
   "codemirror_mode": {
    "name": "ipython",
    "version": 3
   },
   "file_extension": ".py",
   "mimetype": "text/x-python",
   "name": "python",
   "nbconvert_exporter": "python",
   "pygments_lexer": "ipython3",
   "version": "3.9.12"
  }
 },
 "nbformat": 4,
 "nbformat_minor": 5
}
